{
 "cells": [
  {
   "cell_type": "markdown",
   "id": "984f6b2b",
   "metadata": {},
   "source": [
    "# BCI Competition III Dataset 2 analysis"
   ]
  },
  {
   "cell_type": "code",
   "execution_count": null,
   "id": "a243e66c",
   "metadata": {},
   "outputs": [],
   "source": [
    "import os\n",
    "import numpy as np\n",
    "import mne\n",
    "from sklearn.discriminant_analysis import LinearDiscriminantAnalysis\n",
    "\n",
    "from matplotlib import pyplot as plt"
   ]
  },
  {
   "cell_type": "markdown",
   "id": "abdcb266",
   "metadata": {},
   "source": [
    "## Load data:"
   ]
  },
  {
   "cell_type": "code",
   "execution_count": null,
   "id": "042dce67",
   "metadata": {},
   "outputs": [],
   "source": [
    "DATA_FOLDER = 'data/BCI_Comp_III_Wads_2004'\n",
    "FEATURE_LENGTH = 700\n",
    "\n",
    "NUM_CHANNELS = 64\n",
    "SAMPLING_FREQ = 240\n",
    "\n",
    "VAL_SPLIT = 0.3\n",
    "\n",
    "TEST_LABELS_A = 'WQXPLZCOMRKO97YFZDEZ1DPI9NNVGRQDJCUVRMEUOOOJD2UFYPOO6J7LDGYEGOA5VHNEHBTXOO1TDOILUEE5BFAEEXAW_K4R3MRU'\n",
    "TEST_LABELS_B = 'MERMIROOMUHJPXJOHUVLEORZP3GLOO7AUFDKEFTWEOOALZOP9ROCGZET1Y19EWX65QUYU7NAK_4YCJDVDNGQXODBEV2B5EFDIDNR'\n",
    "\n",
    "L_FREQ = .4\n",
    "H_FREQ = 10\n",
    "\n",
    "matrix = [\n",
    "    'abcdef',\n",
    "    'ghijkl',\n",
    "    'mnopqr',\n",
    "    'stuvwx',\n",
    "    'yz1234',\n",
    "    '567879_'\n",
    "]\n",
    "\n",
    "matrix_t = [''.join(i) for i in zip(*matrix)]"
   ]
  },
  {
   "cell_type": "code",
   "execution_count": null,
   "id": "47da03b4",
   "metadata": {},
   "outputs": [],
   "source": [
    "def extract_features(signal, flashing, stim):\n",
    "    signal = signal.astype('double').reshape(-1, 64, signal.shape[1])\n",
    "    signal = signal.swapaxes(1, 2).reshape(-1, 64)\n",
    "    flashing = flashing.T.reshape(-1)\n",
    "    stim = stim.T.reshape(-1)\n",
    "\n",
    "    data = []\n",
    "    labels = []\n",
    "    sample_length = (FEATURE_LENGTH * SAMPLING_FREQ) // 1000\n",
    "\n",
    "    for i in range(len(signal)):\n",
    "        if flashing[i] and (i == 0 or not flashing[i - 1]) and i + sample_length <= len(signal):\n",
    "            data.append(signal[i: i + sample_length])\n",
    "            labels.append(stim[i])\n",
    "\n",
    "    data = np.asarray(data)\n",
    "    labels = np.asarray(labels)\n",
    "\n",
    "    data = data.swapaxes(1, 2)\n",
    "\n",
    "    return data, labels\n",
    "\n",
    "def load_data(subject):\n",
    "    train_signal = np.loadtxt(os.path.join(DATA_FOLDER, f'{subject}_Train_Signal.txt'))\n",
    "    train_flashing = np.loadtxt(os.path.join(DATA_FOLDER, f'{subject}_Train_Flashing.txt'))\n",
    "    train_stim_type = np.loadtxt(os.path.join(DATA_FOLDER, f'{subject}_Train_StimulusType.txt'))\n",
    "\n",
    "    test_signal = np.loadtxt(os.path.join(DATA_FOLDER, f'{subject}_Test_Signal.txt'))\n",
    "    test_flashing = np.loadtxt(os.path.join(DATA_FOLDER, f'{subject}_Test_Flashing.txt'))\n",
    "    test_stim_code = np.loadtxt(os.path.join(DATA_FOLDER, f'{subject}_Test_StimulusCode.txt'))\n",
    "\n",
    "    train_data, train_labels = extract_features(train_signal, train_flashing, train_stim_type)\n",
    "    test_data, test_codes = extract_features(test_signal, test_flashing, test_stim_code)\n",
    "\n",
    "    return train_data, train_labels, test_data, test_codes\n",
    "\n",
    "train_data, train_labels, test_data, test_codes = load_data('Subject_A')"
   ]
  },
  {
   "cell_type": "markdown",
   "id": "c52f7397",
   "metadata": {},
   "source": [
    "## Data visualization:"
   ]
  },
  {
   "cell_type": "code",
   "execution_count": null,
   "id": "bd5d8d29",
   "metadata": {},
   "outputs": [],
   "source": [
    "def plot_epochs(data, num_epochs):\n",
    "    info = mne.create_info(NUM_CHANNELS, SAMPLING_FREQ)\n",
    "    temp = mne.EpochsArray(data[:num_epochs], info)\n",
    "    temp.plot(picks = 'all', show_scrollbars = False, events = True)\n",
    "\n",
    "plot_epochs(train_data, 5)"
   ]
  },
  {
   "cell_type": "code",
   "execution_count": null,
   "id": "9e7230a7",
   "metadata": {},
   "outputs": [],
   "source": [
    "freq, psd = plt.psd(train_data[0][0], Fs = SAMPLING_FREQ, noverlap = 50)\n",
    "plt.show()"
   ]
  },
  {
   "cell_type": "markdown",
   "id": "28b41569",
   "metadata": {},
   "source": [
    "## Pre-processing:"
   ]
  },
  {
   "cell_type": "code",
   "execution_count": null,
   "id": "7c4f7b15",
   "metadata": {
    "lines_to_next_cell": 0
   },
   "outputs": [],
   "source": [
    "def preprocessing(data):\n",
    "    info = mne.create_info(NUM_CHANNELS, SAMPLING_FREQ)\n",
    "    epochs = mne.EpochsArray(data, info)\n",
    "\n",
    "    epochs = epochs.filter(l_freq = L_FREQ, h_freq = H_FREQ, picks = 'all')\n",
    "    return epochs.get_data()\n",
    "\n",
    "train_data = preprocessing(train_data)\n",
    "test_data = preprocessing(test_data)\n",
    "plot_epochs(train_data, 5)"
   ]
  },
  {
   "cell_type": "code",
   "execution_count": null,
   "id": "670f63d7",
   "metadata": {},
   "outputs": [],
   "source": [
    "freq, psd = plt.psd(train_data[0][0], Fs = SAMPLING_FREQ, noverlap = 50)\n",
    "plt.show()"
   ]
  },
  {
   "cell_type": "code",
   "execution_count": null,
   "id": "d503e7fc",
   "metadata": {},
   "outputs": [],
   "source": [
    "choose_val = np.random.choice([0, 1], size = train_data.shape[0], p = [1 - VAL_SPLIT, VAL_SPLIT]).astype('bool')\n",
    "choose_train = np.logical_not(choose_val)\n",
    "train_data, val_data = train_data[choose_train], train_data[choose_val]\n",
    "train_labels, val_labels = train_labels[choose_train], train_labels[choose_val]"
   ]
  },
  {
   "cell_type": "markdown",
   "id": "1ef954f1",
   "metadata": {
    "lines_to_next_cell": 0
   },
   "source": [
    "## Train LDA:"
   ]
  },
  {
   "cell_type": "code",
   "execution_count": null,
   "id": "311f2bac",
   "metadata": {},
   "outputs": [],
   "source": [
    "def train_lda(train_data, train_labels):\n",
    "    train_data_copy = train_data.reshape(train_data.shape[0], -1)\n",
    "\n",
    "    lda = LinearDiscriminantAnalysis()\n",
    "    lda.fit(train_data_copy, train_labels)\n",
    "\n",
    "    return lda\n",
    "\n",
    "lda = train_lda(train_data, train_labels)"
   ]
  },
  {
   "cell_type": "code",
   "execution_count": null,
   "id": "4102d128",
   "metadata": {},
   "outputs": [],
   "source": [
    "def make_predictions(lda, val_data, val_labels, test_data, test_codes, text):\n",
    "    val_data_copy = val_data.reshape(val_data.shape[0], -1)\n",
    "    val_acc = lda.score(val_data_copy, val_labels)\n",
    "    print(f'Val Accuracy: {val_acc * 100:.2f}%')\n",
    "\n",
    "    test_data_copy = test_data.reshape(test_data.shape[0], -1)\n",
    "    predictions = lda.predict_proba(test_data_copy)\n",
    "\n",
    "    # Unscramble order of stimuli\n",
    "    test_codes = test_codes.reshape(-1, 15, 12)\n",
    "    idx = test_codes.argsort()\n",
    "    static_idx = np.indices(idx.shape)\n",
    "\n",
    "    predictions = predictions[:, 1]\n",
    "    predictions = predictions.reshape(-1, 15, 12)\n",
    "    predictions = predictions[static_idx[0], static_idx[1], idx]\n",
    "    predictions = predictions.sum(axis = 1).argsort()\n",
    "\n",
    "    cols = predictions[predictions <= 5].reshape(-1, 6)[:, -1]\n",
    "    rows = predictions[predictions > 5].reshape(-1, 6)[:, -1]\n",
    "    predicted_text = ''.join([matrix[i - 6][j] for i, j in zip(rows, cols)])\n",
    "    predicted_text = predicted_text.upper()\n",
    "\n",
    "    print(f'Predicted string: {predicted_text}')\n",
    "    print(f'True string:      {text}')\n",
    "\n",
    "    accuracy = sum([predicted_text[i] == text[i] for i in range(len(text))]) / len(text)\n",
    "    print(f'Test Accuracy: {accuracy * 100:.2f}%')\n",
    "\n",
    "    return lda, accuracy\n",
    "\n",
    "accuracy = make_predictions(lda, val_data, val_labels, test_data, test_codes, TEST_LABELS_A)"
   ]
  }
 ],
 "metadata": {
  "jupytext": {
   "main_language": "python"
  },
  "kernelspec": {
   "display_name": "",
   "name": ""
  },
  "language_info": {
   "codemirror_mode": {
    "name": "ipython",
    "version": 3
   },
   "file_extension": ".py",
   "mimetype": "text/x-python",
   "name": "python",
   "nbconvert_exporter": "python",
   "pygments_lexer": "ipython3",
   "version": "3.10.12"
  }
 },
 "nbformat": 4,
 "nbformat_minor": 2
}
